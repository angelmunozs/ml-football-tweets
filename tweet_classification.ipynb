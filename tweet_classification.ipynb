{
 "cells": [
  {
   "cell_type": "markdown",
   "metadata": {},
   "source": [
    "## Tweet classification\n",
    "\n",
    "File names"
   ]
  },
  {
   "cell_type": "code",
   "execution_count": 1,
   "metadata": {},
   "outputs": [],
   "source": [
    "base_location = './'\n",
    "\n",
    "# To read\n",
    "tweets_raw_file = base_location + 'datasets/train.csv'\n",
    "tweets_run_file = base_location + 'datasets/test_nolabel.csv'\n",
    "corpus_tweets_2012_xml = base_location + 'general-train-tagged-3l.xml'\n",
    "corpus_tweets_2017_xml = base_location + 'intertass-train-tagged.xml'\n",
    "\n",
    "# To generate\n",
    "corpus_tweets_2012_csv = base_location + 'general-train-tagged-3l.csv'\n",
    "corpus_tweets_2017_csv = base_location + 'intertass-train-tagged.csv'\n",
    "corpus_tweets_csv = base_location + 'corpus_tweets.csv'"
   ]
  },
  {
   "cell_type": "markdown",
   "metadata": {},
   "source": [
    "Import libraries"
   ]
  },
  {
   "cell_type": "code",
   "execution_count": 2,
   "metadata": {},
   "outputs": [],
   "source": [
    "import pandas as pd\n",
    "import numpy as np"
   ]
  },
  {
   "cell_type": "markdown",
   "metadata": {},
   "source": [
    "### Load datasets"
   ]
  },
  {
   "cell_type": "code",
   "execution_count": 3,
   "metadata": {},
   "outputs": [
    {
     "name": "stdout",
     "output_type": "stream",
     "text": [
      "Total tweets: 411\n",
      "Evaluated tweets so far: 177\n"
     ]
    }
   ],
   "source": [
    "tweets_raw = pd.read_csv(tweets_raw_file, encoding='utf-8')\n",
    "tweets_run = pd.read_csv(tweets_run_file, encoding='utf-8')\n",
    "\n",
    "print('Total tweets: %d' % len(tweets_raw))\n",
    "print('Evaluated tweets so far: %d' % len(tweets_run))"
   ]
  },
  {
   "cell_type": "markdown",
   "metadata": {},
   "source": [
    "### Create train and test data"
   ]
  },
  {
   "cell_type": "markdown",
   "metadata": {},
   "source": [
    "Build new array of dictionaries with keys `id` (the task ID), `tweet` (the tweet string) and `score` (the tweet evaluation) by joining data from both CSV files."
   ]
  },
  {
   "cell_type": "code",
   "execution_count": 4,
   "metadata": {},
   "outputs": [
    {
     "name": "stdout",
     "output_type": "stream",
     "text": [
      "Total different tweets evaluated so far: 411\n"
     ]
    }
   ],
   "source": [
    "# Build dictionary of tweets where key is the task__id\n",
    "own_tweets = []\n",
    "tweets_obj = {}\n",
    "for index, row in tweets_raw.iterrows():\n",
    "    own_tweets.append({\n",
    "        'id': row.id,\n",
    "        'tweet': row.text, \n",
    "        'polarity': row.polarity\n",
    "    })\n",
    "\n",
    "print('Total different tweets evaluated so far: %d' % len(own_tweets))"
   ]
  },
  {
   "cell_type": "markdown",
   "metadata": {},
   "source": [
    "### POS Tagging\n",
    "\n",
    "Import libraries to read XML:"
   ]
  },
  {
   "cell_type": "code",
   "execution_count": 5,
   "metadata": {},
   "outputs": [],
   "source": [
    "from lxml import objectify"
   ]
  },
  {
   "cell_type": "markdown",
   "metadata": {},
   "source": [
    "Import/read most recent corpus (2017):"
   ]
  },
  {
   "cell_type": "code",
   "execution_count": 6,
   "metadata": {},
   "outputs": [],
   "source": [
    "# 4 values of sentiment: N, P, NONE, NEU\n",
    "xml = objectify.parse(open(corpus_tweets_2017_xml))\n",
    "root = xml.getroot()\n",
    "general_tweets_corpus_train_2017 = pd.DataFrame(columns=('content', 'polarity'))\n",
    "tweets = root.getchildren()\n",
    "for i in range(0, len(tweets)):\n",
    "    tweet = tweets[i]\n",
    "    row = dict(zip(['content', 'polarity'], [tweet.content.text, tweet.sentiment.polarity.value.text]))\n",
    "    row_s = pd.Series(row)\n",
    "    row_s.name = i\n",
    "    general_tweets_corpus_train_2017 = general_tweets_corpus_train_2017.append(row_s)\n",
    "    \n",
    "general_tweets_corpus_train_2017.to_csv(corpus_tweets_2017_csv, index=False, encoding='utf-8')"
   ]
  },
  {
   "cell_type": "markdown",
   "metadata": {},
   "source": [
    "Import/read biggest corpus (2012), to concatenate it with the previous noe:"
   ]
  },
  {
   "cell_type": "code",
   "execution_count": 7,
   "metadata": {},
   "outputs": [],
   "source": [
    "# 4 values of sentiment: N, P, NONE, NEU\n",
    "xml = objectify.parse(open(corpus_tweets_2012_xml))\n",
    "root = xml.getroot()\n",
    "general_tweets_corpus_train_2012 = pd.DataFrame(columns=('content', 'polarity'))\n",
    "tweets = root.getchildren()\n",
    "for i in range(0, len(tweets)):\n",
    "    tweet = tweets[i]\n",
    "    row = dict(zip(['content', 'polarity'], [tweet.content.text, tweet.sentiments.polarity.value.text]))\n",
    "    row_s = pd.Series(row)\n",
    "    row_s.name = i\n",
    "    general_tweets_corpus_train_2012 = general_tweets_corpus_train_2012.append(row_s)\n",
    "    \n",
    "general_tweets_corpus_train_2012.to_csv(corpus_tweets_2012_csv, index=False, encoding='utf-8')"
   ]
  },
  {
   "cell_type": "markdown",
   "metadata": {},
   "source": [
    "Concatenate general corpus dataset with 2017 one, to have a better result:"
   ]
  },
  {
   "cell_type": "code",
   "execution_count": 8,
   "metadata": {},
   "outputs": [
    {
     "data": {
      "text/html": [
       "<div>\n",
       "<style scoped>\n",
       "    .dataframe tbody tr th:only-of-type {\n",
       "        vertical-align: middle;\n",
       "    }\n",
       "\n",
       "    .dataframe tbody tr th {\n",
       "        vertical-align: top;\n",
       "    }\n",
       "\n",
       "    .dataframe thead th {\n",
       "        text-align: right;\n",
       "    }\n",
       "</style>\n",
       "<table border=\"1\" class=\"dataframe\">\n",
       "  <thead>\n",
       "    <tr style=\"text-align: right;\">\n",
       "      <th></th>\n",
       "      <th>content</th>\n",
       "      <th>polarity</th>\n",
       "    </tr>\n",
       "  </thead>\n",
       "  <tbody>\n",
       "    <tr>\n",
       "      <th>132</th>\n",
       "      <td>@Lahierritos pues sabran més q jo  \\n\\n*curso ...</td>\n",
       "      <td>N</td>\n",
       "    </tr>\n",
       "    <tr>\n",
       "      <th>6179</th>\n",
       "      <td>Niave. http://t.co/TQzeWm6d</td>\n",
       "      <td>NONE</td>\n",
       "    </tr>\n",
       "    <tr>\n",
       "      <th>3381</th>\n",
       "      <td>La tragedia del campo de fútbol egipcio es una...</td>\n",
       "      <td>N</td>\n",
       "    </tr>\n",
       "    <tr>\n",
       "      <th>6057</th>\n",
       "      <td>Hace 200 años, se firmaba en Cádiz la primera ...</td>\n",
       "      <td>NEU</td>\n",
       "    </tr>\n",
       "    <tr>\n",
       "      <th>1159</th>\n",
       "      <td>Juan  Moscoso Proyecto, credibilidad y partido...</td>\n",
       "      <td>P</td>\n",
       "    </tr>\n",
       "    <tr>\n",
       "      <th>3511</th>\n",
       "      <td>no me parece muy acertado que Chacón haga camp...</td>\n",
       "      <td>N</td>\n",
       "    </tr>\n",
       "    <tr>\n",
       "      <th>278</th>\n",
       "      <td>@KatyKlav se siente, ya está dicho</td>\n",
       "      <td>NEU</td>\n",
       "    </tr>\n",
       "    <tr>\n",
       "      <th>6656</th>\n",
       "      <td>Toxo a Rajoy: \"No se puede arruinar tres décad...</td>\n",
       "      <td>N</td>\n",
       "    </tr>\n",
       "    <tr>\n",
       "      <th>834</th>\n",
       "      <td>Repito, de momento NO HAY FECHA LÍMITE y las p...</td>\n",
       "      <td>NONE</td>\n",
       "    </tr>\n",
       "    <tr>\n",
       "      <th>1073</th>\n",
       "      <td>vergonzoso, littleboy?“@Suanzes: @PilarGGranja...</td>\n",
       "      <td>N</td>\n",
       "    </tr>\n",
       "  </tbody>\n",
       "</table>\n",
       "</div>"
      ],
      "text/plain": [
       "                                                content polarity\n",
       "132   @Lahierritos pues sabran més q jo  \\n\\n*curso ...        N\n",
       "6179                        Niave. http://t.co/TQzeWm6d     NONE\n",
       "3381  La tragedia del campo de fútbol egipcio es una...        N\n",
       "6057  Hace 200 años, se firmaba en Cádiz la primera ...      NEU\n",
       "1159  Juan  Moscoso Proyecto, credibilidad y partido...        P\n",
       "3511  no me parece muy acertado que Chacón haga camp...        N\n",
       "278                 @KatyKlav se siente, ya está dicho       NEU\n",
       "6656  Toxo a Rajoy: \"No se puede arruinar tres décad...        N\n",
       "834   Repito, de momento NO HAY FECHA LÍMITE y las p...     NONE\n",
       "1073  vergonzoso, littleboy?“@Suanzes: @PilarGGranja...        N"
      ]
     },
     "execution_count": 8,
     "metadata": {},
     "output_type": "execute_result"
    }
   ],
   "source": [
    "tweets_corpus = pd.concat([\n",
    "        general_tweets_corpus_train_2012,\n",
    "        general_tweets_corpus_train_2017\n",
    "    ])\n",
    "tweets_corpus.sample(10)"
   ]
  },
  {
   "cell_type": "code",
   "execution_count": 9,
   "metadata": {},
   "outputs": [
    {
     "name": "stdout",
     "output_type": "stream",
     "text": [
      "Total corpus tweets: 8227\n"
     ]
    }
   ],
   "source": [
    "print('Total corpus tweets: %d' % len(tweets_corpus))"
   ]
  },
  {
   "cell_type": "markdown",
   "metadata": {},
   "source": [
    "Remove tweets without polarity (polarity `NONE`):"
   ]
  },
  {
   "cell_type": "code",
   "execution_count": 10,
   "metadata": {},
   "outputs": [],
   "source": [
    "tweets_corpus = tweets_corpus.query('polarity != \"NONE\"')"
   ]
  },
  {
   "cell_type": "markdown",
   "metadata": {},
   "source": [
    "Remove tweets that are only a link:"
   ]
  },
  {
   "cell_type": "code",
   "execution_count": 11,
   "metadata": {},
   "outputs": [],
   "source": [
    "tweets_corpus = tweets_corpus[-tweets_corpus.content.str.contains('^http.*$')]"
   ]
  },
  {
   "cell_type": "markdown",
   "metadata": {},
   "source": [
    "Import regex tools:"
   ]
  },
  {
   "cell_type": "code",
   "execution_count": 12,
   "metadata": {},
   "outputs": [],
   "source": [
    "import re"
   ]
  },
  {
   "cell_type": "markdown",
   "metadata": {},
   "source": [
    "Now, we remove links, usernames, newline characters, multiple spaces and emojis."
   ]
  },
  {
   "cell_type": "code",
   "execution_count": 13,
   "metadata": {},
   "outputs": [],
   "source": [
    "tweets_corpus_no_links = tweets_corpus\n",
    "\n",
    "# Remove links\n",
    "tweets_corpus_no_links['content'] = tweets_corpus_no_links['content'].map(lambda x: re.sub(re.compile('https?:\\/\\/t\\.co\\/[\\w]{8,8}'), '', x))\n",
    "\n",
    "# Remove usernames\n",
    "tweets_corpus_no_links['content'] = tweets_corpus_no_links['content'].map(lambda x: re.sub(re.compile('@[A-Za-z0-9_]+'), '', x))\n",
    "\n",
    "# Remove newline character\n",
    "tweets_corpus_no_links['content'] = tweets_corpus_no_links['content'].map(lambda x: re.sub(re.compile('[\\n\\r]+'), '', x))\n",
    "\n",
    "# Replace multiple spaces with single one\n",
    "tweets_corpus_no_links['content'] = tweets_corpus_no_links['content'].map(lambda x: re.sub(re.compile('[\\s]+'), ' ', x))\n",
    "\n",
    "# Remove emojis\n",
    "emoji_pattern = re.compile(u'['\n",
    "     u'\\U0001F300-\\U0001F64F'\n",
    "     u'\\U0001F680-\\U0001F6FF'\n",
    "     u'\\u2600-\\u26FF\\u2700-\\u27BF]+', \n",
    "     re.UNICODE)\n",
    "#tweets_corpus_no_links['content'] = tweets_corpus_no_links['content'].map(lambda x: re.sub(emoji_pattern, ' ', x))"
   ]
  },
  {
   "cell_type": "code",
   "execution_count": 14,
   "metadata": {},
   "outputs": [
    {
     "name": "stdout",
     "output_type": "stream",
     "text": [
      "Total corpus tweets after cleaning: 6586\n"
     ]
    }
   ],
   "source": [
    "print('Total corpus tweets after cleaning: %d' % len(tweets_corpus_no_links))"
   ]
  },
  {
   "cell_type": "code",
   "execution_count": 15,
   "metadata": {},
   "outputs": [
    {
     "data": {
      "text/html": [
       "<div>\n",
       "<style scoped>\n",
       "    .dataframe tbody tr th:only-of-type {\n",
       "        vertical-align: middle;\n",
       "    }\n",
       "\n",
       "    .dataframe tbody tr th {\n",
       "        vertical-align: top;\n",
       "    }\n",
       "\n",
       "    .dataframe thead th {\n",
       "        text-align: right;\n",
       "    }\n",
       "</style>\n",
       "<table border=\"1\" class=\"dataframe\">\n",
       "  <thead>\n",
       "    <tr style=\"text-align: right;\">\n",
       "      <th></th>\n",
       "      <th>content</th>\n",
       "      <th>polarity</th>\n",
       "    </tr>\n",
       "  </thead>\n",
       "  <tbody>\n",
       "    <tr>\n",
       "      <th>4981</th>\n",
       "      <td>#29f La calle nos está esperando para decir qu...</td>\n",
       "      <td>N</td>\n",
       "    </tr>\n",
       "    <tr>\n",
       "      <th>1894</th>\n",
       "      <td>Eso digo yo!!!! “: estoy de camino a terratpac...</td>\n",
       "      <td>N</td>\n",
       "    </tr>\n",
       "    <tr>\n",
       "      <th>2886</th>\n",
       "      <td>Me voy a dormir, escuchando cantar al gallo qu...</td>\n",
       "      <td>N</td>\n",
       "    </tr>\n",
       "    <tr>\n",
       "      <th>6950</th>\n",
       "      <td>450 toneladas de tapones para salvar la vida d...</td>\n",
       "      <td>P</td>\n",
       "    </tr>\n",
       "    <tr>\n",
       "      <th>1994</th>\n",
       "      <td>I favorited a video Los recortes sociales del ...</td>\n",
       "      <td>N</td>\n",
       "    </tr>\n",
       "    <tr>\n",
       "      <th>3047</th>\n",
       "      <td>Mira que foto mas chula , hoy en ;-)))))</td>\n",
       "      <td>P</td>\n",
       "    </tr>\n",
       "    <tr>\n",
       "      <th>762</th>\n",
       "      <td>Ya no existe razón para que la Generalitat ale...</td>\n",
       "      <td>NEU</td>\n",
       "    </tr>\n",
       "    <tr>\n",
       "      <th>1611</th>\n",
       "      <td>FELIZ AÑO DEL CAMBIO ANDALUZ!ESPERO QUE VENGA ...</td>\n",
       "      <td>P</td>\n",
       "    </tr>\n",
       "    <tr>\n",
       "      <th>7002</th>\n",
       "      <td>Sobre lo que pudo llegar a ser #Bagdad y nunca...</td>\n",
       "      <td>P</td>\n",
       "    </tr>\n",
       "    <tr>\n",
       "      <th>422</th>\n",
       "      <td>Me encanta estar así de feliz...ojalá y esto t...</td>\n",
       "      <td>P</td>\n",
       "    </tr>\n",
       "  </tbody>\n",
       "</table>\n",
       "</div>"
      ],
      "text/plain": [
       "                                                content polarity\n",
       "4981  #29f La calle nos está esperando para decir qu...        N\n",
       "1894  Eso digo yo!!!! “: estoy de camino a terratpac...        N\n",
       "2886  Me voy a dormir, escuchando cantar al gallo qu...        N\n",
       "6950  450 toneladas de tapones para salvar la vida d...        P\n",
       "1994  I favorited a video Los recortes sociales del ...        N\n",
       "3047          Mira que foto mas chula , hoy en ;-)))))         P\n",
       "762   Ya no existe razón para que la Generalitat ale...      NEU\n",
       "1611  FELIZ AÑO DEL CAMBIO ANDALUZ!ESPERO QUE VENGA ...        P\n",
       "7002  Sobre lo que pudo llegar a ser #Bagdad y nunca...        P\n",
       "422   Me encanta estar así de feliz...ojalá y esto t...        P"
      ]
     },
     "execution_count": 15,
     "metadata": {},
     "output_type": "execute_result"
    }
   ],
   "source": [
    "tweets_corpus.sample(10)"
   ]
  },
  {
   "cell_type": "markdown",
   "metadata": {},
   "source": [
    "### Tokenization and stemming\n",
    "\n",
    "Download Spanish stopwords in Spanish:"
   ]
  },
  {
   "cell_type": "code",
   "execution_count": 16,
   "metadata": {},
   "outputs": [
    {
     "name": "stdout",
     "output_type": "stream",
     "text": [
      "[nltk_data] Downloading package stopwords to /home/angel/nltk_data...\n",
      "[nltk_data]   Package stopwords is already up-to-date!\n"
     ]
    }
   ],
   "source": [
    "# Download spanish stopwords\n",
    "import nltk\n",
    "nltk.download(\"stopwords\")\n",
    "\n",
    "from nltk.corpus import stopwords\n",
    "spanish_stopwords = stopwords.words('spanish')"
   ]
  },
  {
   "cell_type": "markdown",
   "metadata": {},
   "source": [
    "Get non-words, and extend array of non-words with characters `¿` and `¿`."
   ]
  },
  {
   "cell_type": "code",
   "execution_count": 17,
   "metadata": {},
   "outputs": [],
   "source": [
    "from string import punctuation\n",
    "non_words = list(punctuation)\n",
    "\n",
    "# Add spanish punctuation\n",
    "non_words.extend(['¿', '¡'])\n",
    "non_words.extend(map(str,range(10)))"
   ]
  },
  {
   "cell_type": "markdown",
   "metadata": {},
   "source": [
    "Define stemmer and tokenizer, based on previous steps."
   ]
  },
  {
   "cell_type": "code",
   "execution_count": 18,
   "metadata": {},
   "outputs": [],
   "source": [
    "from sklearn.feature_extraction.text import CountVectorizer       \n",
    "from nltk.stem import SnowballStemmer\n",
    "from nltk.tokenize import word_tokenize\n",
    "\n",
    "# based on http://www.cs.duke.edu/courses/spring14/compsci290/assignments/lab02.html\n",
    "stemmer = SnowballStemmer('spanish')\n",
    "def stem_tokens(tokens, stemmer):\n",
    "    stemmed = []\n",
    "    for item in tokens:\n",
    "        stemmed.append(stemmer.stem(item))\n",
    "    return stemmed\n",
    "\n",
    "def tokenize(text):\n",
    "    # remove non letters\n",
    "    text = ''.join([c for c in text if c not in non_words])\n",
    "    # tokenize\n",
    "    tokens =  word_tokenize(text)\n",
    "\n",
    "    # stem\n",
    "    try:\n",
    "        stems = stem_tokens(tokens, stemmer)\n",
    "    except Exception as e:\n",
    "        print(e)\n",
    "        print(text)\n",
    "        stems = ['']\n",
    "    return stems"
   ]
  },
  {
   "cell_type": "code",
   "execution_count": 19,
   "metadata": {},
   "outputs": [
    {
     "data": {
      "text/html": [
       "<div>\n",
       "<style scoped>\n",
       "    .dataframe tbody tr th:only-of-type {\n",
       "        vertical-align: middle;\n",
       "    }\n",
       "\n",
       "    .dataframe tbody tr th {\n",
       "        vertical-align: top;\n",
       "    }\n",
       "\n",
       "    .dataframe thead th {\n",
       "        text-align: right;\n",
       "    }\n",
       "</style>\n",
       "<table border=\"1\" class=\"dataframe\">\n",
       "  <thead>\n",
       "    <tr style=\"text-align: right;\">\n",
       "      <th></th>\n",
       "      <th>content</th>\n",
       "      <th>polarity</th>\n",
       "    </tr>\n",
       "  </thead>\n",
       "  <tbody>\n",
       "    <tr>\n",
       "      <th>1592</th>\n",
       "      <td>Con #rajoynazo1 menos consumo, producción y ac...</td>\n",
       "      <td>N</td>\n",
       "    </tr>\n",
       "    <tr>\n",
       "      <th>5875</th>\n",
       "      <td>Buenas tardes twiteros!</td>\n",
       "      <td>P</td>\n",
       "    </tr>\n",
       "    <tr>\n",
       "      <th>4771</th>\n",
       "      <td>Las fuerzas de Al Assad ejecutan a 18 personas...</td>\n",
       "      <td>N</td>\n",
       "    </tr>\n",
       "    <tr>\n",
       "      <th>392</th>\n",
       "      <td>Somos consciente de la importancia cultural y ...</td>\n",
       "      <td>P</td>\n",
       "    </tr>\n",
       "    <tr>\n",
       "      <th>7015</th>\n",
       "      <td>Esas tardes en las que todo de confabula para ...</td>\n",
       "      <td>P</td>\n",
       "    </tr>\n",
       "    <tr>\n",
       "      <th>4568</th>\n",
       "      <td>RT : Si tuvieras q buscar un paraiso terrenal ...</td>\n",
       "      <td>P</td>\n",
       "    </tr>\n",
       "    <tr>\n",
       "      <th>4787</th>\n",
       "      <td>“: te mando un saludo de cántabro a cántabro, ...</td>\n",
       "      <td>P</td>\n",
       "    </tr>\n",
       "    <tr>\n",
       "      <th>7181</th>\n",
       "      <td>PSOE pedirá impuesto a las grandes fortunas en...</td>\n",
       "      <td>P</td>\n",
       "    </tr>\n",
       "    <tr>\n",
       "      <th>6509</th>\n",
       "      <td>Las ofertas de última hora de son la bomba. De...</td>\n",
       "      <td>P</td>\n",
       "    </tr>\n",
       "    <tr>\n",
       "      <th>3123</th>\n",
       "      <td>Demasiados Consejos Europeos \"históricos\".Este...</td>\n",
       "      <td>P</td>\n",
       "    </tr>\n",
       "  </tbody>\n",
       "</table>\n",
       "</div>"
      ],
      "text/plain": [
       "                                                content polarity\n",
       "1592  Con #rajoynazo1 menos consumo, producción y ac...        N\n",
       "5875                            Buenas tardes twiteros!        P\n",
       "4771  Las fuerzas de Al Assad ejecutan a 18 personas...        N\n",
       "392   Somos consciente de la importancia cultural y ...        P\n",
       "7015  Esas tardes en las que todo de confabula para ...        P\n",
       "4568  RT : Si tuvieras q buscar un paraiso terrenal ...        P\n",
       "4787  “: te mando un saludo de cántabro a cántabro, ...        P\n",
       "7181  PSOE pedirá impuesto a las grandes fortunas en...        P\n",
       "6509  Las ofertas de última hora de son la bomba. De...        P\n",
       "3123  Demasiados Consejos Europeos \"históricos\".Este...        P"
      ]
     },
     "execution_count": 19,
     "metadata": {},
     "output_type": "execute_result"
    }
   ],
   "source": [
    "tweets_corpus.sample(10)"
   ]
  },
  {
   "cell_type": "markdown",
   "metadata": {},
   "source": [
    "### Model Evaluation"
   ]
  },
  {
   "cell_type": "markdown",
   "metadata": {},
   "source": [
    "Import libraries:"
   ]
  },
  {
   "cell_type": "code",
   "execution_count": 20,
   "metadata": {},
   "outputs": [
    {
     "name": "stderr",
     "output_type": "stream",
     "text": [
      "/opt/anaconda3/lib/python3.6/site-packages/sklearn/cross_validation.py:41: DeprecationWarning: This module was deprecated in version 0.18 in favor of the model_selection module into which all the refactored classes and functions are moved. Also note that the interface of the new CV iterators are different from that of this module. This module will be removed in 0.20.\n",
      "  \"This module will be removed in 0.20.\", DeprecationWarning)\n"
     ]
    }
   ],
   "source": [
    "from sklearn.cross_validation import cross_val_score\n",
    "from sklearn.svm import LinearSVC\n",
    "from sklearn.pipeline import Pipeline"
   ]
  },
  {
   "cell_type": "markdown",
   "metadata": {},
   "source": [
    "We convert from strings to numerics the polarity values"
   ]
  },
  {
   "cell_type": "code",
   "execution_count": 21,
   "metadata": {},
   "outputs": [
    {
     "name": "stderr",
     "output_type": "stream",
     "text": [
      "/opt/anaconda3/lib/python3.6/site-packages/ipykernel_launcher.py:2: SettingWithCopyWarning: \n",
      "A value is trying to be set on a copy of a slice from a DataFrame\n",
      "\n",
      "See the caveats in the documentation: http://pandas.pydata.org/pandas-docs/stable/indexing.html#indexing-view-versus-copy\n",
      "  \n",
      "/opt/anaconda3/lib/python3.6/site-packages/ipykernel_launcher.py:3: SettingWithCopyWarning: \n",
      "A value is trying to be set on a copy of a slice from a DataFrame\n",
      "\n",
      "See the caveats in the documentation: http://pandas.pydata.org/pandas-docs/stable/indexing.html#indexing-view-versus-copy\n",
      "  This is separate from the ipykernel package so we can avoid doing imports until\n"
     ]
    },
    {
     "data": {
      "text/plain": [
       " 1    0.483602\n",
       "-1    0.394777\n",
       " 0    0.121622\n",
       "Name: polarity_bin, dtype: float64"
      ]
     },
     "execution_count": 21,
     "metadata": {},
     "output_type": "execute_result"
    }
   ],
   "source": [
    "tweets_corpus_no_links['polarity_bin'] = 0\n",
    "tweets_corpus_no_links.polarity_bin[tweets_corpus_no_links.polarity.isin(['P'])] = 1\n",
    "tweets_corpus_no_links.polarity_bin[tweets_corpus_no_links.polarity.isin(['N'])] = -1\n",
    "tweets_corpus_no_links.polarity_bin.value_counts(normalize=True)"
   ]
  },
  {
   "cell_type": "markdown",
   "metadata": {},
   "source": [
    "Now we use SVC model with optimization via GridSearch"
   ]
  },
  {
   "cell_type": "code",
   "execution_count": 22,
   "metadata": {},
   "outputs": [],
   "source": [
    "from sklearn.model_selection import GridSearchCV\n",
    "from sklearn.multiclass import OneVsRestClassifier\n",
    "vectorizer = CountVectorizer(\n",
    "                analyzer = 'word',\n",
    "                tokenizer = tokenize,\n",
    "                lowercase = True,\n",
    "                stop_words = spanish_stopwords)\n",
    "\n",
    "pipeline = Pipeline([\n",
    "    ('vect', vectorizer),\n",
    "    ('cls', OneVsRestClassifier(LinearSVC())),\n",
    "])"
   ]
  },
  {
   "cell_type": "markdown",
   "metadata": {},
   "source": [
    "As long as we don't have binary classification, we must binarize the polarity and use a multiclass learning algorithm."
   ]
  },
  {
   "cell_type": "code",
   "execution_count": 23,
   "metadata": {},
   "outputs": [
    {
     "data": {
      "text/plain": [
       "'from sklearn.preprocessing import label_binarize\\ntweets_corpus_no_links.polarity_bin = label_binarize(tweets_corpus_no_links.polarity_bin, classes=[-1, 0, 1])'"
      ]
     },
     "execution_count": 23,
     "metadata": {},
     "output_type": "execute_result"
    }
   ],
   "source": [
    "'''from sklearn.preprocessing import label_binarize\n",
    "tweets_corpus_no_links.polarity_bin = label_binarize(tweets_corpus_no_links.polarity_bin, classes=[-1, 0, 1])'''"
   ]
  },
  {
   "cell_type": "code",
   "execution_count": 24,
   "metadata": {},
   "outputs": [
    {
     "data": {
      "text/plain": [
       "\"params = {\\n    'vect__max_df': (0.5, 1.9),\\n    'vect__min_df': (10, 20,50),\\n    'vect__max_features': (500, 1000),\\n    'vect__ngram_range': ((1, 1), (1, 2)),  # unigrams or bigrams\\n    'cls__estimator__C': (0.2, 0.5, 0.7),\\n    'cls__estimator__loss': ('hinge', 'squared_hinge'),\\n    'cls__estimator__max_iter': (500, 1000)\\n      }\\ngs = GridSearchCV(pipeline, params, n_jobs=-1, cv=5, scoring='roc_auc')\\ngs.fit(tweets_corpus_no_links.content, tweets_corpus_no_links.polarity_bin)\""
      ]
     },
     "execution_count": 24,
     "metadata": {},
     "output_type": "execute_result"
    }
   ],
   "source": [
    "'''params = {\n",
    "    'vect__max_df': (0.5, 1.9),\n",
    "    'vect__min_df': (10, 20,50),\n",
    "    'vect__max_features': (500, 1000),\n",
    "    'vect__ngram_range': ((1, 1), (1, 2)),  # unigrams or bigrams\n",
    "    'cls__estimator__C': (0.2, 0.5, 0.7),\n",
    "    'cls__estimator__loss': ('hinge', 'squared_hinge'),\n",
    "    'cls__estimator__max_iter': (500, 1000)\n",
    "      }\n",
    "gs = GridSearchCV(pipeline, params, n_jobs=-1, cv=5, scoring='roc_auc')\n",
    "gs.fit(tweets_corpus_no_links.content, tweets_corpus_no_links.polarity_bin)'''"
   ]
  },
  {
   "cell_type": "code",
   "execution_count": 25,
   "metadata": {},
   "outputs": [
    {
     "data": {
      "text/plain": [
       "'gs.best_params_'"
      ]
     },
     "execution_count": 25,
     "metadata": {},
     "output_type": "execute_result"
    }
   ],
   "source": [
    "'''gs.best_params_'''"
   ]
  },
  {
   "cell_type": "markdown",
   "metadata": {},
   "source": [
    "We obtain that the best parameters are:\n",
    "\n",
    "{'cls__estimator__C': 0.2,\n",
    "\n",
    " 'cls__estimator__loss': 'hinge',\n",
    " \n",
    " 'cls__estimator__max_iter': 1000,\n",
    " \n",
    " 'vect__max_df': 1.9,\n",
    " \n",
    " 'vect__max_features': 1000,\n",
    " \n",
    " 'vect__min_df': 10,\n",
    " \n",
    " 'vect__ngram_range': (1, 1)}"
   ]
  },
  {
   "cell_type": "code",
   "execution_count": 26,
   "metadata": {},
   "outputs": [
    {
     "data": {
      "text/plain": [
       "\"from sklearn.externals import joblib\\njoblib.dump(gs, 'grid_search.pkl')\""
      ]
     },
     "execution_count": 26,
     "metadata": {},
     "output_type": "execute_result"
    }
   ],
   "source": [
    "'''from sklearn.externals import joblib\n",
    "joblib.dump(gs, 'grid_search.pkl')'''"
   ]
  },
  {
   "cell_type": "markdown",
   "metadata": {},
   "source": [
    "Import cross validation:"
   ]
  },
  {
   "cell_type": "code",
   "execution_count": 27,
   "metadata": {},
   "outputs": [],
   "source": [
    "from sklearn.cross_validation import cross_val_predict"
   ]
  },
  {
   "cell_type": "code",
   "execution_count": 28,
   "metadata": {},
   "outputs": [],
   "source": [
    "model = LinearSVC(\n",
    "    C=.2, \n",
    "    loss='hinge', \n",
    "    max_iter=1000, \n",
    "    random_state=None, \n",
    "    penalty='l2'\n",
    ")\n",
    "\n",
    "# Define vectorizer with the previously created tokenizer and stopwords array\n",
    "vectorizer = CountVectorizer(\n",
    "    analyzer = 'word',\n",
    "    tokenizer = tokenize,\n",
    "    lowercase = True,\n",
    "    stop_words = spanish_stopwords,\n",
    "    min_df = 10,\n",
    "    max_df = 1.9,\n",
    "    ngram_range=(1, 1),\n",
    "    max_features=1000\n",
    ")\n",
    "\n",
    "corpus_data_features = vectorizer.fit_transform(tweets_corpus_no_links.content)\n",
    "corpus_data_features_nd = corpus_data_features.toarray()"
   ]
  },
  {
   "cell_type": "code",
   "execution_count": 29,
   "metadata": {},
   "outputs": [],
   "source": [
    "y=tweets_corpus_no_links.polarity_bin"
   ]
  },
  {
   "cell_type": "code",
   "execution_count": 30,
   "metadata": {},
   "outputs": [
    {
     "data": {
      "text/plain": [
       "\"scores = cross_val_score(\\n    model,\\n    corpus_data_features_nd[0:len(tweets_corpus_no_links)],\\n    y=tweets_corpus_no_links.polarity_bin,\\n    scoring='roc_auc',\\n    cv=5\\n    )\\n\\nscores.mean()\""
      ]
     },
     "execution_count": 30,
     "metadata": {},
     "output_type": "execute_result"
    }
   ],
   "source": [
    "'''scores = cross_val_score(\n",
    "    model,\n",
    "    corpus_data_features_nd[0:len(tweets_corpus_no_links)],\n",
    "    y=tweets_corpus_no_links.polarity_bin,\n",
    "    scoring='roc_auc',\n",
    "    cv=5\n",
    "    )\n",
    "\n",
    "scores.mean()'''"
   ]
  },
  {
   "cell_type": "markdown",
   "metadata": {},
   "source": [
    "### Polarity Prediction"
   ]
  },
  {
   "cell_type": "code",
   "execution_count": 31,
   "metadata": {},
   "outputs": [
    {
     "name": "stdout",
     "output_type": "stream",
     "text": [
      "Number of tweets: 177\n"
     ]
    },
    {
     "data": {
      "text/html": [
       "<div>\n",
       "<style scoped>\n",
       "    .dataframe tbody tr th:only-of-type {\n",
       "        vertical-align: middle;\n",
       "    }\n",
       "\n",
       "    .dataframe tbody tr th {\n",
       "        vertical-align: top;\n",
       "    }\n",
       "\n",
       "    .dataframe thead th {\n",
       "        text-align: right;\n",
       "    }\n",
       "</style>\n",
       "<table border=\"1\" class=\"dataframe\">\n",
       "  <thead>\n",
       "    <tr style=\"text-align: right;\">\n",
       "      <th></th>\n",
       "      <th>id</th>\n",
       "      <th>text</th>\n",
       "    </tr>\n",
       "  </thead>\n",
       "  <tbody>\n",
       "    <tr>\n",
       "      <th>119</th>\n",
       "      <td>56479676</td>\n",
       "      <td>¿Equipo de fútbol favorito? — No me gusta el f...</td>\n",
       "    </tr>\n",
       "    <tr>\n",
       "      <th>64</th>\n",
       "      <td>e859476c</td>\n",
       "      <td>“El fracaso, como la tristeza, es corrosivo cu...</td>\n",
       "    </tr>\n",
       "    <tr>\n",
       "      <th>121</th>\n",
       "      <td>dc3d7492</td>\n",
       "      <td>Se le viene Real Madrid, Barça o Bayern Munich...</td>\n",
       "    </tr>\n",
       "    <tr>\n",
       "      <th>106</th>\n",
       "      <td>020ee260</td>\n",
       "      <td>Más miedo al Barça que al PSG? Has mencionado ...</td>\n",
       "    </tr>\n",
       "    <tr>\n",
       "      <th>46</th>\n",
       "      <td>8b973b98</td>\n",
       "      <td>Algunos partidos de Cristiano en eliminatorias...</td>\n",
       "    </tr>\n",
       "    <tr>\n",
       "      <th>112</th>\n",
       "      <td>6f30beca</td>\n",
       "      <td>CON LA MIRA PUESTA EN MALAGA.\\n\\nSE VIENE PART...</td>\n",
       "    </tr>\n",
       "    <tr>\n",
       "      <th>173</th>\n",
       "      <td>2ccfd252</td>\n",
       "      <td>@ATLASNU8E Tendrías que haberte hecho del Barç...</td>\n",
       "    </tr>\n",
       "    <tr>\n",
       "      <th>115</th>\n",
       "      <td>ea75493e</td>\n",
       "      <td>@diablillocule14 @InvictosSomos ????? A ver su...</td>\n",
       "    </tr>\n",
       "    <tr>\n",
       "      <th>113</th>\n",
       "      <td>e1400a58</td>\n",
       "      <td>@RetrAshado No están trabajando en el juego, e...</td>\n",
       "    </tr>\n",
       "    <tr>\n",
       "      <th>68</th>\n",
       "      <td>b492b317</td>\n",
       "      <td>La 'rajada' de un ex objetivo del Barça sobre ...</td>\n",
       "    </tr>\n",
       "  </tbody>\n",
       "</table>\n",
       "</div>"
      ],
      "text/plain": [
       "           id                                               text\n",
       "119  56479676  ¿Equipo de fútbol favorito? — No me gusta el f...\n",
       "64   e859476c  “El fracaso, como la tristeza, es corrosivo cu...\n",
       "121  dc3d7492  Se le viene Real Madrid, Barça o Bayern Munich...\n",
       "106  020ee260  Más miedo al Barça que al PSG? Has mencionado ...\n",
       "46   8b973b98  Algunos partidos de Cristiano en eliminatorias...\n",
       "112  6f30beca  CON LA MIRA PUESTA EN MALAGA.\\n\\nSE VIENE PART...\n",
       "173  2ccfd252  @ATLASNU8E Tendrías que haberte hecho del Barç...\n",
       "115  ea75493e  @diablillocule14 @InvictosSomos ????? A ver su...\n",
       "113  e1400a58  @RetrAshado No están trabajando en el juego, e...\n",
       "68   b492b317  La 'rajada' de un ex objetivo del Barça sobre ..."
      ]
     },
     "execution_count": 31,
     "metadata": {},
     "output_type": "execute_result"
    }
   ],
   "source": [
    "tweets_no_label = pd.read_csv(tweets_run_file, encoding='utf-8')\n",
    "print('Number of tweets: %d' % tweets_no_label.shape[0])\n",
    "tweets_no_label.sample(10)"
   ]
  },
  {
   "cell_type": "markdown",
   "metadata": {},
   "source": [
    "Now we do some cleansing of the data, erasing again the links, usernames, newline characters, multiple spaces and emojis."
   ]
  },
  {
   "cell_type": "code",
   "execution_count": 32,
   "metadata": {},
   "outputs": [],
   "source": [
    "# Remove links\n",
    "tweets_no_label['text'] = tweets_no_label['text'].map(lambda x: re.sub(re.compile('https?:\\/\\/t\\.co\\/[\\w]{8,8}'), '', x))\n",
    "\n",
    "# Remove usernames\n",
    "tweets_no_label['text'] = tweets_no_label['text'].map(lambda x: re.sub(re.compile('@[A-Za-z0-9_]+'), '', x))\n",
    "\n",
    "# Remove newline character\n",
    "tweets_no_label['text'] = tweets_no_label['text'].map(lambda x: re.sub(re.compile('[\\n\\r]+'), '', x))\n",
    "\n",
    "# Replace multiple spaces with single one\n",
    "tweets_no_label['text'] = tweets_no_label['text'].map(lambda x: re.sub(re.compile('[\\s]+'), ' ', x))\n",
    "\n",
    "# Remove emojis\n",
    "emoji_pattern = re.compile(u'['\n",
    "     u'\\U0001F300-\\U0001F64F'\n",
    "     u'\\U0001F680-\\U0001F6FF'\n",
    "     u'\\u2600-\\u26FF\\u2700-\\u27BF]+', \n",
    "     re.UNICODE)\n",
    "#tweets_no_label['text'] = tweets_no_label['text'].map(lambda x: re.sub(emoji_pattern, ' ', x))"
   ]
  },
  {
   "cell_type": "code",
   "execution_count": 33,
   "metadata": {},
   "outputs": [
    {
     "data": {
      "text/html": [
       "<div>\n",
       "<style scoped>\n",
       "    .dataframe tbody tr th:only-of-type {\n",
       "        vertical-align: middle;\n",
       "    }\n",
       "\n",
       "    .dataframe tbody tr th {\n",
       "        vertical-align: top;\n",
       "    }\n",
       "\n",
       "    .dataframe thead th {\n",
       "        text-align: right;\n",
       "    }\n",
       "</style>\n",
       "<table border=\"1\" class=\"dataframe\">\n",
       "  <thead>\n",
       "    <tr style=\"text-align: right;\">\n",
       "      <th></th>\n",
       "      <th>id</th>\n",
       "      <th>text</th>\n",
       "    </tr>\n",
       "  </thead>\n",
       "  <tbody>\n",
       "    <tr>\n",
       "      <th>89</th>\n",
       "      <td>2687f611</td>\n",
       "      <td>El atleti no juega contra el PSG x q le elimi...</td>\n",
       "    </tr>\n",
       "    <tr>\n",
       "      <th>116</th>\n",
       "      <td>5a311adf</td>\n",
       "      <td>Claro, no es jugador del Barça. Lo que hizo e...</td>\n",
       "    </tr>\n",
       "    <tr>\n",
       "      <th>115</th>\n",
       "      <td>ea75493e</td>\n",
       "      <td>????? A ver subnormal, creo que no se te da e...</td>\n",
       "    </tr>\n",
       "    <tr>\n",
       "      <th>4</th>\n",
       "      <td>c4852036</td>\n",
       "      <td>Vengo 2/2 con los clasificados a Cuartos de Ch...</td>\n",
       "    </tr>\n",
       "    <tr>\n",
       "      <th>48</th>\n",
       "      <td>51df160e</td>\n",
       "      <td>Tienes razón.</td>\n",
       "    </tr>\n",
       "    <tr>\n",
       "      <th>162</th>\n",
       "      <td>6213b397</td>\n",
       "      <td>lo terrible es que la afición del lo tolere, ...</td>\n",
       "    </tr>\n",
       "    <tr>\n",
       "      <th>60</th>\n",
       "      <td>5d65492b</td>\n",
       "      <td>#BolitaPorfavorINFORMA:   Futbol Internacional...</td>\n",
       "    </tr>\n",
       "    <tr>\n",
       "      <th>109</th>\n",
       "      <td>6d1bd293</td>\n",
       "      <td>Yo soy del Barça, hinchaba por Neymar</td>\n",
       "    </tr>\n",
       "    <tr>\n",
       "      <th>138</th>\n",
       "      <td>47d440ff</td>\n",
       "      <td>Que morro tienen, si en los últimos años no f...</td>\n",
       "    </tr>\n",
       "    <tr>\n",
       "      <th>51</th>\n",
       "      <td>13581e4b</td>\n",
       "      <td>Y tu que te llamas angelvikingo siendo del Ba...</td>\n",
       "    </tr>\n",
       "  </tbody>\n",
       "</table>\n",
       "</div>"
      ],
      "text/plain": [
       "           id                                               text\n",
       "89   2687f611   El atleti no juega contra el PSG x q le elimi...\n",
       "116  5a311adf   Claro, no es jugador del Barça. Lo que hizo e...\n",
       "115  ea75493e   ????? A ver subnormal, creo que no se te da e...\n",
       "4    c4852036  Vengo 2/2 con los clasificados a Cuartos de Ch...\n",
       "48   51df160e                                     Tienes razón. \n",
       "162  6213b397   lo terrible es que la afición del lo tolere, ...\n",
       "60   5d65492b  #BolitaPorfavorINFORMA:   Futbol Internacional...\n",
       "109  6d1bd293              Yo soy del Barça, hinchaba por Neymar\n",
       "138  47d440ff   Que morro tienen, si en los últimos años no f...\n",
       "51   13581e4b   Y tu que te llamas angelvikingo siendo del Ba..."
      ]
     },
     "execution_count": 33,
     "metadata": {},
     "output_type": "execute_result"
    }
   ],
   "source": [
    "tweets_no_label.sample(10)"
   ]
  },
  {
   "cell_type": "markdown",
   "metadata": {
    "collapsed": true
   },
   "source": [
    "### Language detection"
   ]
  },
  {
   "cell_type": "markdown",
   "metadata": {},
   "source": [
    "Due to the fact that some tweets are in catalan, for language detection purposes we are only going to process about the ones in spanish for sentiment purposes.\n",
    "\n",
    "We use three different libraries for language detection and keep those tweets on which at least two of these libraries agree on the language being Spanish."
   ]
  },
  {
   "cell_type": "code",
   "execution_count": 34,
   "metadata": {},
   "outputs": [],
   "source": [
    "import langid\n",
    "from langdetect import detect\n",
    "import textblob\n",
    "\n",
    "def langid_safe(tweet):\n",
    "    try:\n",
    "        return langid.classify(tweet)[0]\n",
    "    except Exception as e:\n",
    "        pass\n",
    "        \n",
    "def langdetect_safe(tweet):\n",
    "    try:\n",
    "        return detect(tweet)\n",
    "    except Exception as e:\n",
    "        pass\n",
    "\n",
    "def textblob_safe(tweet):\n",
    "    try:\n",
    "        return textblob.TextBlob(tweet).detect_language()\n",
    "    except Exception as e:\n",
    "        pass"
   ]
  },
  {
   "cell_type": "markdown",
   "metadata": {},
   "source": [
    "Create 3 new columns specifying the detected language of the tweet."
   ]
  },
  {
   "cell_type": "code",
   "execution_count": 35,
   "metadata": {},
   "outputs": [],
   "source": [
    "tweets_no_label['lang_langid'] = tweets_no_label.text.apply(langid_safe)\n",
    "tweets_no_label['lang_langdetect'] = tweets_no_label.text.apply(langdetect_safe)\n",
    "tweets_no_label['lang_textblob'] = tweets_no_label.text.apply(textblob_safe)"
   ]
  },
  {
   "cell_type": "markdown",
   "metadata": {},
   "source": [
    "Save as CSV."
   ]
  },
  {
   "cell_type": "code",
   "execution_count": 36,
   "metadata": {},
   "outputs": [],
   "source": [
    "tweets_no_label.to_csv('tweets_parsed.csv', encoding='utf-8')"
   ]
  },
  {
   "cell_type": "markdown",
   "metadata": {},
   "source": [
    "We select the tweets in Spanish as follows:\n",
    "- If the language detected is Spanish by at least 2 libraries, leave.\n",
    "- If the language detected is Spanish in at least 1 library, print and append to the dataset manually.\n",
    "- If none of the languages detected is Spanish, remove."
   ]
  },
  {
   "cell_type": "code",
   "execution_count": 37,
   "metadata": {},
   "outputs": [
    {
     "name": "stdout",
     "output_type": "stream",
     "text": [
      "Tweets in Spanish: 150\n",
      "Tweets whose language is not clear: 19\n"
     ]
    },
    {
     "data": {
      "text/html": [
       "<div>\n",
       "<style scoped>\n",
       "    .dataframe tbody tr th:only-of-type {\n",
       "        vertical-align: middle;\n",
       "    }\n",
       "\n",
       "    .dataframe tbody tr th {\n",
       "        vertical-align: top;\n",
       "    }\n",
       "\n",
       "    .dataframe thead th {\n",
       "        text-align: right;\n",
       "    }\n",
       "</style>\n",
       "<table border=\"1\" class=\"dataframe\">\n",
       "  <thead>\n",
       "    <tr style=\"text-align: right;\">\n",
       "      <th></th>\n",
       "      <th>id</th>\n",
       "      <th>text</th>\n",
       "      <th>lang_langid</th>\n",
       "      <th>lang_langdetect</th>\n",
       "      <th>lang_textblob</th>\n",
       "    </tr>\n",
       "  </thead>\n",
       "  <tbody>\n",
       "    <tr>\n",
       "      <th>1</th>\n",
       "      <td>79cdded5</td>\n",
       "      <td>FELICIDADES ¡¡ FRANCISCO¡¡</td>\n",
       "      <td>hy</td>\n",
       "      <td>de</td>\n",
       "      <td>es</td>\n",
       "    </tr>\n",
       "    <tr>\n",
       "      <th>2</th>\n",
       "      <td>26fe7471</td>\n",
       "      <td>Dedicado para: 0F</td>\n",
       "      <td>pt</td>\n",
       "      <td>pt</td>\n",
       "      <td>es</td>\n",
       "    </tr>\n",
       "    <tr>\n",
       "      <th>8</th>\n",
       "      <td>cd0d8bcb</td>\n",
       "      <td>DRAXLER EXPLOTA vs el PSG | BALOTELLI ‘manda C...</td>\n",
       "      <td>es</td>\n",
       "      <td>ca</td>\n",
       "      <td>ca</td>\n",
       "    </tr>\n",
       "    <tr>\n",
       "      <th>17</th>\n",
       "      <td>97af720a</td>\n",
       "      <td>Para el que quiera ver el Barça hoy, es a las ...</td>\n",
       "      <td>ca</td>\n",
       "      <td>ca</td>\n",
       "      <td>es</td>\n",
       "    </tr>\n",
       "    <tr>\n",
       "      <th>40</th>\n",
       "      <td>09c0f4cc</td>\n",
       "      <td>El Barça Lassa deja casi vacía la enfermería 9...</td>\n",
       "      <td>an</td>\n",
       "      <td>ca</td>\n",
       "      <td>es</td>\n",
       "    </tr>\n",
       "    <tr>\n",
       "      <th>42</th>\n",
       "      <td>5a533794</td>\n",
       "      <td>¡EL INICIO DE UNA LEYENDA!  ¿Qué momento recue...</td>\n",
       "      <td>pt</td>\n",
       "      <td>pt</td>\n",
       "      <td>es</td>\n",
       "    </tr>\n",
       "    <tr>\n",
       "      <th>55</th>\n",
       "      <td>9046f222</td>\n",
       "      <td>ULTIMA HORA: EL PRESIDENTE DEL PSG LE OFRECE A...</td>\n",
       "      <td>tr</td>\n",
       "      <td>en</td>\n",
       "      <td>es</td>\n",
       "    </tr>\n",
       "    <tr>\n",
       "      <th>56</th>\n",
       "      <td>5df2d140</td>\n",
       "      <td>Me ha gustado un vídeo de (tG - EL DIRECTO EN ...</td>\n",
       "      <td>gl</td>\n",
       "      <td>pt</td>\n",
       "      <td>es</td>\n",
       "    </tr>\n",
       "    <tr>\n",
       "      <th>72</th>\n",
       "      <td>c5343fa0</td>\n",
       "      <td>Y al Atleti que miura la va a tocar ahora en ...</td>\n",
       "      <td>ca</td>\n",
       "      <td>ca</td>\n",
       "      <td>es</td>\n",
       "    </tr>\n",
       "    <tr>\n",
       "      <th>74</th>\n",
       "      <td>12d82762</td>\n",
       "      <td>EL DIRECTO EN EL QUE DjMaRiiO USÓ LA CAMISETA ...</td>\n",
       "      <td>tr</td>\n",
       "      <td>pt</td>\n",
       "      <td>es</td>\n",
       "    </tr>\n",
       "    <tr>\n",
       "      <th>76</th>\n",
       "      <td>dcc02374</td>\n",
       "      <td>No es muy difícil Barça va Madrid</td>\n",
       "      <td>ca</td>\n",
       "      <td>ca</td>\n",
       "      <td>es</td>\n",
       "    </tr>\n",
       "    <tr>\n",
       "      <th>96</th>\n",
       "      <td>8f9d73cf</td>\n",
       "      <td>Cualquiera que no estuvieran ni Barça ni Madrid.</td>\n",
       "      <td>ca</td>\n",
       "      <td>ca</td>\n",
       "      <td>es</td>\n",
       "    </tr>\n",
       "    <tr>\n",
       "      <th>112</th>\n",
       "      <td>6f30beca</td>\n",
       "      <td>CON LA MIRA PUESTA EN MALAGA.SE VIENE PARTIDO ...</td>\n",
       "      <td>ga</td>\n",
       "      <td>en</td>\n",
       "      <td>es</td>\n",
       "    </tr>\n",
       "    <tr>\n",
       "      <th>124</th>\n",
       "      <td>9cd8b232</td>\n",
       "      <td>LO QUE PASA ES QUE EL QUE HABLA PAJA SOY VOH ...</td>\n",
       "      <td>fi</td>\n",
       "      <td>pt</td>\n",
       "      <td>es</td>\n",
       "    </tr>\n",
       "    <tr>\n",
       "      <th>125</th>\n",
       "      <td>3c78bdb5</td>\n",
       "      <td>Sport, el Barça descartó en el pasado a Lucas ...</td>\n",
       "      <td>ca</td>\n",
       "      <td>ca</td>\n",
       "      <td>es</td>\n",
       "    </tr>\n",
       "    <tr>\n",
       "      <th>150</th>\n",
       "      <td>3beadb3a</td>\n",
       "      <td>Informa : ha fet cursa contínua avui a la Ciu...</td>\n",
       "      <td>es</td>\n",
       "      <td>ca</td>\n",
       "      <td>ca</td>\n",
       "    </tr>\n",
       "    <tr>\n",
       "      <th>152</th>\n",
       "      <td>c8cda282</td>\n",
       "      <td>Igual que los del Barça hacerse del PSG.</td>\n",
       "      <td>oc</td>\n",
       "      <td>ca</td>\n",
       "      <td>es</td>\n",
       "    </tr>\n",
       "    <tr>\n",
       "      <th>166</th>\n",
       "      <td>fce60e59</td>\n",
       "      <td>Iniesta inicia su plan en la Ciutat Esportiva ...</td>\n",
       "      <td>es</td>\n",
       "      <td>ca</td>\n",
       "      <td>ca</td>\n",
       "    </tr>\n",
       "    <tr>\n",
       "      <th>170</th>\n",
       "      <td>7bd204cc</td>\n",
       "      <td>Yo no me abono</td>\n",
       "      <td>pt</td>\n",
       "      <td>it</td>\n",
       "      <td>es</td>\n",
       "    </tr>\n",
       "  </tbody>\n",
       "</table>\n",
       "</div>"
      ],
      "text/plain": [
       "           id                                               text lang_langid  \\\n",
       "1    79cdded5                        FELICIDADES ¡¡ FRANCISCO¡¡           hy   \n",
       "2    26fe7471                                  Dedicado para: 0F          pt   \n",
       "8    cd0d8bcb  DRAXLER EXPLOTA vs el PSG | BALOTELLI ‘manda C...          es   \n",
       "17   97af720a  Para el que quiera ver el Barça hoy, es a las ...          ca   \n",
       "40   09c0f4cc  El Barça Lassa deja casi vacía la enfermería 9...          an   \n",
       "42   5a533794  ¡EL INICIO DE UNA LEYENDA!  ¿Qué momento recue...          pt   \n",
       "55   9046f222  ULTIMA HORA: EL PRESIDENTE DEL PSG LE OFRECE A...          tr   \n",
       "56   5df2d140  Me ha gustado un vídeo de (tG - EL DIRECTO EN ...          gl   \n",
       "72   c5343fa0   Y al Atleti que miura la va a tocar ahora en ...          ca   \n",
       "74   12d82762  EL DIRECTO EN EL QUE DjMaRiiO USÓ LA CAMISETA ...          tr   \n",
       "76   dcc02374                  No es muy difícil Barça va Madrid          ca   \n",
       "96   8f9d73cf   Cualquiera que no estuvieran ni Barça ni Madrid.          ca   \n",
       "112  6f30beca  CON LA MIRA PUESTA EN MALAGA.SE VIENE PARTIDO ...          ga   \n",
       "124  9cd8b232   LO QUE PASA ES QUE EL QUE HABLA PAJA SOY VOH ...          fi   \n",
       "125  3c78bdb5  Sport, el Barça descartó en el pasado a Lucas ...          ca   \n",
       "150  3beadb3a   Informa : ha fet cursa contínua avui a la Ciu...          es   \n",
       "152  c8cda282           Igual que los del Barça hacerse del PSG.          oc   \n",
       "166  fce60e59  Iniesta inicia su plan en la Ciutat Esportiva ...          es   \n",
       "170  7bd204cc                                     Yo no me abono          pt   \n",
       "\n",
       "    lang_langdetect lang_textblob  \n",
       "1                de            es  \n",
       "2                pt            es  \n",
       "8                ca            ca  \n",
       "17               ca            es  \n",
       "40               ca            es  \n",
       "42               pt            es  \n",
       "55               en            es  \n",
       "56               pt            es  \n",
       "72               ca            es  \n",
       "74               pt            es  \n",
       "76               ca            es  \n",
       "96               ca            es  \n",
       "112              en            es  \n",
       "124              pt            es  \n",
       "125              ca            es  \n",
       "150              ca            ca  \n",
       "152              ca            es  \n",
       "166              ca            ca  \n",
       "170              it            es  "
      ]
     },
     "execution_count": 37,
     "metadata": {},
     "output_type": "execute_result"
    }
   ],
   "source": [
    "# Leave tweets whose detected language is Spanish (majority):\n",
    "spanish_query = ''' (lang_langdetect == 'es' and lang_langid == 'es') or (lang_langdetect == 'es' and lang_textblob == 'es') or (lang_textblob == 'es' and lang_langid == 'es') '''\n",
    "tweets_spanish = tweets_no_label.query(spanish_query)\n",
    "\n",
    "print('Tweets in Spanish: %d' % tweets_spanish.shape[0])\n",
    "\n",
    "# Print tweets in doubtful language:\n",
    "nonspanish_query = ''' ((lang_langdetect != 'es' and lang_langid != 'es') or (lang_langdetect != 'es' and lang_textblob != 'es') or (lang_textblob != 'es' and lang_langid != 'es')) and (lang_textblob == 'es' or lang_langid == 'es' or lang_langdetect == 'es') '''\n",
    "tweets_doubtful = tweets_no_label.query(nonspanish_query)\n",
    "\n",
    "print('Tweets whose language is not clear: %d' % tweets_doubtful.shape[0])\n",
    "\n",
    "tweets_doubtful"
   ]
  },
  {
   "cell_type": "code",
   "execution_count": 39,
   "metadata": {},
   "outputs": [
    {
     "name": "stdout",
     "output_type": "stream",
     "text": [
      "Tweets in Spanish: 169\n"
     ]
    }
   ],
   "source": [
    "# Append rest of the tweets in Spanish manually\n",
    "tweets_spanish = pd.concat([tweets_spanish, tweets_doubtful.query(''' id == '79cdded5' ''')])\n",
    "tweets_spanish = pd.concat([tweets_spanish, tweets_doubtful.query(''' id == '26fe7471' ''')])\n",
    "tweets_spanish = pd.concat([tweets_spanish, tweets_doubtful.query(''' id == 'cd0d8bcb' ''')])\n",
    "tweets_spanish = pd.concat([tweets_spanish, tweets_doubtful.query(''' id == '97af720a' ''')])\n",
    "tweets_spanish = pd.concat([tweets_spanish, tweets_doubtful.query(''' id == '09c0f4cc' ''')])\n",
    "tweets_spanish = pd.concat([tweets_spanish, tweets_doubtful.query(''' id == '5a533794' ''')])\n",
    "tweets_spanish = pd.concat([tweets_spanish, tweets_doubtful.query(''' id == '9046f222' ''')])\n",
    "tweets_spanish = pd.concat([tweets_spanish, tweets_doubtful.query(''' id == '5df2d140' ''')])\n",
    "tweets_spanish = pd.concat([tweets_spanish, tweets_doubtful.query(''' id == 'c5343fa0' ''')])\n",
    "tweets_spanish = pd.concat([tweets_spanish, tweets_doubtful.query(''' id == '12d82762' ''')])\n",
    "tweets_spanish = pd.concat([tweets_spanish, tweets_doubtful.query(''' id == 'dcc02374' ''')])\n",
    "tweets_spanish = pd.concat([tweets_spanish, tweets_doubtful.query(''' id == '8f9d73cf' ''')])\n",
    "tweets_spanish = pd.concat([tweets_spanish, tweets_doubtful.query(''' id == '6f30beca' ''')])\n",
    "tweets_spanish = pd.concat([tweets_spanish, tweets_doubtful.query(''' id == '9cd8b232' ''')])\n",
    "tweets_spanish = pd.concat([tweets_spanish, tweets_doubtful.query(''' id == '3c78bdb5' ''')])\n",
    "tweets_spanish = pd.concat([tweets_spanish, tweets_doubtful.query(''' id == '3beadb3a' ''')])\n",
    "tweets_spanish = pd.concat([tweets_spanish, tweets_doubtful.query(''' id == 'c8cda282' ''')])\n",
    "tweets_spanish = pd.concat([tweets_spanish, tweets_doubtful.query(''' id == 'fce60e59' ''')])\n",
    "tweets_spanish = pd.concat([tweets_spanish, tweets_doubtful.query(''' id == '7bd204cc' ''')])\n",
    "\n",
    "print('Tweets in Spanish: %d' % tweets_spanish.shape[0])"
   ]
  },
  {
   "cell_type": "markdown",
   "metadata": {},
   "source": [
    "Define pipeline:"
   ]
  },
  {
   "cell_type": "code",
   "execution_count": 40,
   "metadata": {},
   "outputs": [],
   "source": [
    "pipeline = Pipeline([\n",
    "    ('vect', CountVectorizer(\n",
    "            analyzer = 'word',\n",
    "            tokenizer = tokenize,\n",
    "            lowercase = True,\n",
    "            stop_words = spanish_stopwords,\n",
    "            min_df = 10,\n",
    "            max_df = 1.9,\n",
    "            ngram_range=(1, 1),\n",
    "            max_features=1000\n",
    "            )),\n",
    "    ('cls', OneVsRestClassifier(LinearSVC(C=.2, loss='hinge',max_iter=1000,multi_class='ovr',\n",
    "             random_state=None,\n",
    "             penalty='l2',\n",
    "             ))),\n",
    "])"
   ]
  },
  {
   "cell_type": "code",
   "execution_count": 41,
   "metadata": {},
   "outputs": [],
   "source": [
    "pipeline.fit(tweets_corpus_no_links.content, tweets_corpus_no_links.polarity_bin)\n",
    "tweets_no_label['polarity'] = pipeline.predict(tweets_no_label.text)"
   ]
  },
  {
   "cell_type": "code",
   "execution_count": 42,
   "metadata": {},
   "outputs": [
    {
     "data": {
      "text/html": [
       "<div>\n",
       "<style scoped>\n",
       "    .dataframe tbody tr th:only-of-type {\n",
       "        vertical-align: middle;\n",
       "    }\n",
       "\n",
       "    .dataframe tbody tr th {\n",
       "        vertical-align: top;\n",
       "    }\n",
       "\n",
       "    .dataframe thead th {\n",
       "        text-align: right;\n",
       "    }\n",
       "</style>\n",
       "<table border=\"1\" class=\"dataframe\">\n",
       "  <thead>\n",
       "    <tr style=\"text-align: right;\">\n",
       "      <th></th>\n",
       "      <th>text</th>\n",
       "      <th>polarity</th>\n",
       "    </tr>\n",
       "  </thead>\n",
       "  <tbody>\n",
       "    <tr>\n",
       "      <th>166</th>\n",
       "      <td>Iniesta inicia su plan en la Ciutat Esportiva ...</td>\n",
       "      <td>1</td>\n",
       "    </tr>\n",
       "    <tr>\n",
       "      <th>13</th>\n",
       "      <td>Recién me compro el conjunto del Barça y ya sa...</td>\n",
       "      <td>1</td>\n",
       "    </tr>\n",
       "    <tr>\n",
       "      <th>143</th>\n",
       "      <td>No vale, no saben lo feliz que estuve cuando ...</td>\n",
       "      <td>1</td>\n",
       "    </tr>\n",
       "    <tr>\n",
       "      <th>126</th>\n",
       "      <td>Pavor tengo que ahora los del #PSG miren hacia...</td>\n",
       "      <td>1</td>\n",
       "    </tr>\n",
       "    <tr>\n",
       "      <th>168</th>\n",
       "      <td>Griezmann no será por el partido ante el Barç...</td>\n",
       "      <td>1</td>\n",
       "    </tr>\n",
       "    <tr>\n",
       "      <th>176</th>\n",
       "      <td>Es que son muy ridículos. Perder contra el Ba...</td>\n",
       "      <td>-1</td>\n",
       "    </tr>\n",
       "    <tr>\n",
       "      <th>134</th>\n",
       "      <td>Fox our barca cock suckers</td>\n",
       "      <td>1</td>\n",
       "    </tr>\n",
       "    <tr>\n",
       "      <th>131</th>\n",
       "      <td>Vaya, no nos lo esperábamos...; Es curioso com...</td>\n",
       "      <td>1</td>\n",
       "    </tr>\n",
       "    <tr>\n",
       "      <th>10</th>\n",
       "      <td>Un jugador brasileño de 21 años muy bueno q j...</td>\n",
       "      <td>1</td>\n",
       "    </tr>\n",
       "    <tr>\n",
       "      <th>43</th>\n",
       "      <td>Please RT!! #atleti #atletico #ATM El fisio ?a...</td>\n",
       "      <td>1</td>\n",
       "    </tr>\n",
       "    <tr>\n",
       "      <th>105</th>\n",
       "      <td>Resulta que el partido lo perdió el PSG por l...</td>\n",
       "      <td>-1</td>\n",
       "    </tr>\n",
       "    <tr>\n",
       "      <th>144</th>\n",
       "      <td>Dale un rato más y será más q el Barça (?)</td>\n",
       "      <td>1</td>\n",
       "    </tr>\n",
       "    <tr>\n",
       "      <th>110</th>\n",
       "      <td>Soy 100% fans del Barça pero no caigo en eso....</td>\n",
       "      <td>1</td>\n",
       "    </tr>\n",
       "    <tr>\n",
       "      <th>21</th>\n",
       "      <td>Este es un cagon, la verdad ayer esperaba un ...</td>\n",
       "      <td>0</td>\n",
       "    </tr>\n",
       "    <tr>\n",
       "      <th>15</th>\n",
       "      <td>Y un mundo en el que Madrí y Barca no estén e...</td>\n",
       "      <td>-1</td>\n",
       "    </tr>\n",
       "    <tr>\n",
       "      <th>164</th>\n",
       "      <td>4I</td>\n",
       "      <td>1</td>\n",
       "    </tr>\n",
       "    <tr>\n",
       "      <th>107</th>\n",
       "      <td>El problema del PSG es su propio presidente q...</td>\n",
       "      <td>-1</td>\n",
       "    </tr>\n",
       "    <tr>\n",
       "      <th>20</th>\n",
       "      <td>No jodas, tienen a toda una estructura mucho ...</td>\n",
       "      <td>1</td>\n",
       "    </tr>\n",
       "    <tr>\n",
       "      <th>142</th>\n",
       "      <td>Roban en la tienda oficial del en el Metropoli...</td>\n",
       "      <td>-1</td>\n",
       "    </tr>\n",
       "    <tr>\n",
       "      <th>56</th>\n",
       "      <td>Me ha gustado un vídeo de (tG - EL DIRECTO EN ...</td>\n",
       "      <td>1</td>\n",
       "    </tr>\n",
       "    <tr>\n",
       "      <th>93</th>\n",
       "      <td>El matrimonio es una barca que lleva a dos per...</td>\n",
       "      <td>-1</td>\n",
       "    </tr>\n",
       "    <tr>\n",
       "      <th>27</th>\n",
       "      <td>McGuane podría debutar con el Barça y converti...</td>\n",
       "      <td>1</td>\n",
       "    </tr>\n",
       "    <tr>\n",
       "      <th>5</th>\n",
       "      <td>Pero que te crees? Xk os sorprende lo de este...</td>\n",
       "      <td>-1</td>\n",
       "    </tr>\n",
       "    <tr>\n",
       "      <th>34</th>\n",
       "      <td>Feliz cumpleaños ! Qué sigáis haciendo esta gr...</td>\n",
       "      <td>1</td>\n",
       "    </tr>\n",
       "    <tr>\n",
       "      <th>26</th>\n",
       "      <td>Ya, y estoy de acuerdo. Pero eso no cambia qu...</td>\n",
       "      <td>-1</td>\n",
       "    </tr>\n",
       "    <tr>\n",
       "      <th>49</th>\n",
       "      <td>Lo bueno es q fue expulsado, ese ejemplo a tu...</td>\n",
       "      <td>1</td>\n",
       "    </tr>\n",
       "    <tr>\n",
       "      <th>62</th>\n",
       "      <td>entonces por qué lo llamas realmadridización?...</td>\n",
       "      <td>1</td>\n",
       "    </tr>\n",
       "    <tr>\n",
       "      <th>17</th>\n",
       "      <td>Para el que quiera ver el Barça hoy, es a las ...</td>\n",
       "      <td>1</td>\n",
       "    </tr>\n",
       "    <tr>\n",
       "      <th>90</th>\n",
       "      <td>Llegará el Barça no te preocupes, y será su p...</td>\n",
       "      <td>1</td>\n",
       "    </tr>\n",
       "    <tr>\n",
       "      <th>92</th>\n",
       "      <td>Que noooo, así nos saca unas risas</td>\n",
       "      <td>1</td>\n",
       "    </tr>\n",
       "  </tbody>\n",
       "</table>\n",
       "</div>"
      ],
      "text/plain": [
       "                                                  text  polarity\n",
       "166  Iniesta inicia su plan en la Ciutat Esportiva ...         1\n",
       "13   Recién me compro el conjunto del Barça y ya sa...         1\n",
       "143   No vale, no saben lo feliz que estuve cuando ...         1\n",
       "126  Pavor tengo que ahora los del #PSG miren hacia...         1\n",
       "168   Griezmann no será por el partido ante el Barç...         1\n",
       "176   Es que son muy ridículos. Perder contra el Ba...        -1\n",
       "134                         Fox our barca cock suckers         1\n",
       "131  Vaya, no nos lo esperábamos...; Es curioso com...         1\n",
       "10    Un jugador brasileño de 21 años muy bueno q j...         1\n",
       "43   Please RT!! #atleti #atletico #ATM El fisio ?a...         1\n",
       "105   Resulta que el partido lo perdió el PSG por l...        -1\n",
       "144         Dale un rato más y será más q el Barça (?)         1\n",
       "110   Soy 100% fans del Barça pero no caigo en eso....         1\n",
       "21    Este es un cagon, la verdad ayer esperaba un ...         0\n",
       "15    Y un mundo en el que Madrí y Barca no estén e...        -1\n",
       "164                                                 4I         1\n",
       "107   El problema del PSG es su propio presidente q...        -1\n",
       "20    No jodas, tienen a toda una estructura mucho ...         1\n",
       "142  Roban en la tienda oficial del en el Metropoli...        -1\n",
       "56   Me ha gustado un vídeo de (tG - EL DIRECTO EN ...         1\n",
       "93   El matrimonio es una barca que lleva a dos per...        -1\n",
       "27   McGuane podría debutar con el Barça y converti...         1\n",
       "5     Pero que te crees? Xk os sorprende lo de este...        -1\n",
       "34   Feliz cumpleaños ! Qué sigáis haciendo esta gr...         1\n",
       "26    Ya, y estoy de acuerdo. Pero eso no cambia qu...        -1\n",
       "49    Lo bueno es q fue expulsado, ese ejemplo a tu...         1\n",
       "62    entonces por qué lo llamas realmadridización?...         1\n",
       "17   Para el que quiera ver el Barça hoy, es a las ...         1\n",
       "90    Llegará el Barça no te preocupes, y será su p...         1\n",
       "92                Que noooo, así nos saca unas risas           1"
      ]
     },
     "execution_count": 42,
     "metadata": {},
     "output_type": "execute_result"
    }
   ],
   "source": [
    "tweets_no_label[['text', 'polarity']].sample(30)"
   ]
  },
  {
   "cell_type": "markdown",
   "metadata": {},
   "source": [
    "Re-convert polarity to a string."
   ]
  },
  {
   "cell_type": "code",
   "execution_count": 43,
   "metadata": {},
   "outputs": [
    {
     "name": "stderr",
     "output_type": "stream",
     "text": [
      "/opt/anaconda3/lib/python3.6/site-packages/ipykernel_launcher.py:3: SettingWithCopyWarning: \n",
      "A value is trying to be set on a copy of a slice from a DataFrame\n",
      "\n",
      "See the caveats in the documentation: http://pandas.pydata.org/pandas-docs/stable/indexing.html#indexing-view-versus-copy\n",
      "  This is separate from the ipykernel package so we can avoid doing imports until\n",
      "/opt/anaconda3/lib/python3.6/site-packages/ipykernel_launcher.py:4: SettingWithCopyWarning: \n",
      "A value is trying to be set on a copy of a slice from a DataFrame\n",
      "\n",
      "See the caveats in the documentation: http://pandas.pydata.org/pandas-docs/stable/indexing.html#indexing-view-versus-copy\n",
      "  after removing the cwd from sys.path.\n"
     ]
    },
    {
     "data": {
      "text/html": [
       "<div>\n",
       "<style scoped>\n",
       "    .dataframe tbody tr th:only-of-type {\n",
       "        vertical-align: middle;\n",
       "    }\n",
       "\n",
       "    .dataframe tbody tr th {\n",
       "        vertical-align: top;\n",
       "    }\n",
       "\n",
       "    .dataframe thead th {\n",
       "        text-align: right;\n",
       "    }\n",
       "</style>\n",
       "<table border=\"1\" class=\"dataframe\">\n",
       "  <thead>\n",
       "    <tr style=\"text-align: right;\">\n",
       "      <th></th>\n",
       "      <th>text</th>\n",
       "      <th>polarity_bin</th>\n",
       "    </tr>\n",
       "  </thead>\n",
       "  <tbody>\n",
       "    <tr>\n",
       "      <th>121</th>\n",
       "      <td>Se le viene Real Madrid, Barça o Bayern Munich...</td>\n",
       "      <td>Positive</td>\n",
       "    </tr>\n",
       "    <tr>\n",
       "      <th>125</th>\n",
       "      <td>Sport, el Barça descartó en el pasado a Lucas ...</td>\n",
       "      <td>Positive</td>\n",
       "    </tr>\n",
       "    <tr>\n",
       "      <th>135</th>\n",
       "      <td>En dias como hoy te das cuenta porque el R. M...</td>\n",
       "      <td>Negative</td>\n",
       "    </tr>\n",
       "    <tr>\n",
       "      <th>29</th>\n",
       "      <td>Me sorprende la absurdez del fanatismo que hay...</td>\n",
       "      <td>Positive</td>\n",
       "    </tr>\n",
       "    <tr>\n",
       "      <th>85</th>\n",
       "      <td>Hace 17 años, #Messi inició su camino con el 4...</td>\n",
       "      <td>Positive</td>\n",
       "    </tr>\n",
       "    <tr>\n",
       "      <th>114</th>\n",
       "      <td>Vaya cabezazo del niño. Me recordó al de la f...</td>\n",
       "      <td>Negative</td>\n",
       "    </tr>\n",
       "    <tr>\n",
       "      <th>48</th>\n",
       "      <td>Tienes razón.</td>\n",
       "      <td>Negative</td>\n",
       "    </tr>\n",
       "    <tr>\n",
       "      <th>136</th>\n",
       "      <td>nada más para aclarar este año al lo hecho el...</td>\n",
       "      <td>Positive</td>\n",
       "    </tr>\n",
       "    <tr>\n",
       "      <th>62</th>\n",
       "      <td>entonces por qué lo llamas realmadridización?...</td>\n",
       "      <td>Positive</td>\n",
       "    </tr>\n",
       "    <tr>\n",
       "      <th>95</th>\n",
       "      <td>Jajajajaj puto Mario, pero Simón, la última v...</td>\n",
       "      <td>Negative</td>\n",
       "    </tr>\n",
       "    <tr>\n",
       "      <th>27</th>\n",
       "      <td>McGuane podría debutar con el Barça y converti...</td>\n",
       "      <td>Positive</td>\n",
       "    </tr>\n",
       "    <tr>\n",
       "      <th>18</th>\n",
       "      <td>Pero porque la ganase el Atm o porque la perd...</td>\n",
       "      <td>Negative</td>\n",
       "    </tr>\n",
       "    <tr>\n",
       "      <th>6</th>\n",
       "      <td>André Gomes no está dando el nivel pero los ab...</td>\n",
       "      <td>Positive</td>\n",
       "    </tr>\n",
       "    <tr>\n",
       "      <th>92</th>\n",
       "      <td>Que noooo, así nos saca unas risas</td>\n",
       "      <td>Positive</td>\n",
       "    </tr>\n",
       "    <tr>\n",
       "      <th>162</th>\n",
       "      <td>lo terrible es que la afición del lo tolere, ...</td>\n",
       "      <td>Negative</td>\n",
       "    </tr>\n",
       "    <tr>\n",
       "      <th>82</th>\n",
       "      <td>ESTA TARDE a las 18:45 se juega la SUPERCOPA D...</td>\n",
       "      <td>Positive</td>\n",
       "    </tr>\n",
       "    <tr>\n",
       "      <th>132</th>\n",
       "      <td>Pues nada, adeu y barca nova. Y mientras tant...</td>\n",
       "      <td>Negative</td>\n",
       "    </tr>\n",
       "    <tr>\n",
       "      <th>73</th>\n",
       "      <td>Que solo soy feliz con el atleti de madrid!!!</td>\n",
       "      <td>Positive</td>\n",
       "    </tr>\n",
       "    <tr>\n",
       "      <th>46</th>\n",
       "      <td>Algunos partidos de Cristiano en eliminatorias...</td>\n",
       "      <td>Neutral</td>\n",
       "    </tr>\n",
       "    <tr>\n",
       "      <th>24</th>\n",
       "      <td>Si jugaras en el cielo moriría por verte! #Fo...</td>\n",
       "      <td>Positive</td>\n",
       "    </tr>\n",
       "    <tr>\n",
       "      <th>72</th>\n",
       "      <td>Y al Atleti que miura la va a tocar ahora en ...</td>\n",
       "      <td>Positive</td>\n",
       "    </tr>\n",
       "    <tr>\n",
       "      <th>47</th>\n",
       "      <td>La victoria de ayer a la prensa tampoco le val...</td>\n",
       "      <td>Positive</td>\n",
       "    </tr>\n",
       "    <tr>\n",
       "      <th>65</th>\n",
       "      <td>A este Dios de este competicion quitas sus ac...</td>\n",
       "      <td>Negative</td>\n",
       "    </tr>\n",
       "    <tr>\n",
       "      <th>122</th>\n",
       "      <td>La \"rajada\" de un ex objetivo del Barça sobre ...</td>\n",
       "      <td>Negative</td>\n",
       "    </tr>\n",
       "    <tr>\n",
       "      <th>17</th>\n",
       "      <td>Para el que quiera ver el Barça hoy, es a las ...</td>\n",
       "      <td>Positive</td>\n",
       "    </tr>\n",
       "    <tr>\n",
       "      <th>83</th>\n",
       "      <td>El fichaje de Arthur por el Barça se frena | M...</td>\n",
       "      <td>Positive</td>\n",
       "    </tr>\n",
       "    <tr>\n",
       "      <th>31</th>\n",
       "      <td>Cuidado! Recodad que el Málaga por más pésimo...</td>\n",
       "      <td>Negative</td>\n",
       "    </tr>\n",
       "    <tr>\n",
       "      <th>64</th>\n",
       "      <td>“El fracaso, como la tristeza, es corrosivo cu...</td>\n",
       "      <td>Positive</td>\n",
       "    </tr>\n",
       "    <tr>\n",
       "      <th>50</th>\n",
       "      <td>Veremos si es tan superior cuándo juegue cont...</td>\n",
       "      <td>Negative</td>\n",
       "    </tr>\n",
       "    <tr>\n",
       "      <th>91</th>\n",
       "      <td>¿Aquellos casi atracos al Barça?, no se que d...</td>\n",
       "      <td>Negative</td>\n",
       "    </tr>\n",
       "  </tbody>\n",
       "</table>\n",
       "</div>"
      ],
      "text/plain": [
       "                                                  text polarity_bin\n",
       "121  Se le viene Real Madrid, Barça o Bayern Munich...     Positive\n",
       "125  Sport, el Barça descartó en el pasado a Lucas ...     Positive\n",
       "135   En dias como hoy te das cuenta porque el R. M...     Negative\n",
       "29   Me sorprende la absurdez del fanatismo que hay...     Positive\n",
       "85   Hace 17 años, #Messi inició su camino con el 4...     Positive\n",
       "114   Vaya cabezazo del niño. Me recordó al de la f...     Negative\n",
       "48                                      Tienes razón.      Negative\n",
       "136   nada más para aclarar este año al lo hecho el...     Positive\n",
       "62    entonces por qué lo llamas realmadridización?...     Positive\n",
       "95    Jajajajaj puto Mario, pero Simón, la última v...     Negative\n",
       "27   McGuane podría debutar con el Barça y converti...     Positive\n",
       "18    Pero porque la ganase el Atm o porque la perd...     Negative\n",
       "6    André Gomes no está dando el nivel pero los ab...     Positive\n",
       "92                Que noooo, así nos saca unas risas       Positive\n",
       "162   lo terrible es que la afición del lo tolere, ...     Negative\n",
       "82   ESTA TARDE a las 18:45 se juega la SUPERCOPA D...     Positive\n",
       "132   Pues nada, adeu y barca nova. Y mientras tant...     Negative\n",
       "73       Que solo soy feliz con el atleti de madrid!!!     Positive\n",
       "46   Algunos partidos de Cristiano en eliminatorias...      Neutral\n",
       "24    Si jugaras en el cielo moriría por verte! #Fo...     Positive\n",
       "72    Y al Atleti que miura la va a tocar ahora en ...     Positive\n",
       "47   La victoria de ayer a la prensa tampoco le val...     Positive\n",
       "65    A este Dios de este competicion quitas sus ac...     Negative\n",
       "122  La \"rajada\" de un ex objetivo del Barça sobre ...     Negative\n",
       "17   Para el que quiera ver el Barça hoy, es a las ...     Positive\n",
       "83   El fichaje de Arthur por el Barça se frena | M...     Positive\n",
       "31    Cuidado! Recodad que el Málaga por más pésimo...     Negative\n",
       "64   “El fracaso, como la tristeza, es corrosivo cu...     Positive\n",
       "50    Veremos si es tan superior cuándo juegue cont...     Negative\n",
       "91    ¿Aquellos casi atracos al Barça?, no se que d...     Negative"
      ]
     },
     "execution_count": 43,
     "metadata": {},
     "output_type": "execute_result"
    }
   ],
   "source": [
    "tweets = tweets_no_label.copy()\n",
    "tweets['polarity_bin'] = 'Neutral'\n",
    "tweets.polarity_bin[tweets.polarity.isin([1])] = 'Positive'\n",
    "tweets.polarity_bin[tweets.polarity.isin([-1])] = 'Negative'\n",
    "tweets.polarity_bin.value_counts(normalize=True)\n",
    "tweets[['text', 'polarity_bin']].sample(30)"
   ]
  },
  {
   "cell_type": "markdown",
   "metadata": {},
   "source": [
    "Remove aux. columns:"
   ]
  },
  {
   "cell_type": "code",
   "execution_count": 44,
   "metadata": {},
   "outputs": [],
   "source": [
    "tweets.drop(['lang_langid', 'lang_langdetect','lang_textblob','polarity'], axis=1, inplace=True)"
   ]
  },
  {
   "cell_type": "code",
   "execution_count": 45,
   "metadata": {},
   "outputs": [
    {
     "data": {
      "text/html": [
       "<div>\n",
       "<style scoped>\n",
       "    .dataframe tbody tr th:only-of-type {\n",
       "        vertical-align: middle;\n",
       "    }\n",
       "\n",
       "    .dataframe tbody tr th {\n",
       "        vertical-align: top;\n",
       "    }\n",
       "\n",
       "    .dataframe thead th {\n",
       "        text-align: right;\n",
       "    }\n",
       "</style>\n",
       "<table border=\"1\" class=\"dataframe\">\n",
       "  <thead>\n",
       "    <tr style=\"text-align: right;\">\n",
       "      <th></th>\n",
       "      <th>id</th>\n",
       "      <th>text</th>\n",
       "      <th>polarity_bin</th>\n",
       "    </tr>\n",
       "  </thead>\n",
       "  <tbody>\n",
       "    <tr>\n",
       "      <th>57</th>\n",
       "      <td>c2d98689</td>\n",
       "      <td>El que tiró la liga en septiembre el año pasa...</td>\n",
       "      <td>Positive</td>\n",
       "    </tr>\n",
       "    <tr>\n",
       "      <th>109</th>\n",
       "      <td>6d1bd293</td>\n",
       "      <td>Yo soy del Barça, hinchaba por Neymar</td>\n",
       "      <td>Positive</td>\n",
       "    </tr>\n",
       "    <tr>\n",
       "      <th>48</th>\n",
       "      <td>51df160e</td>\n",
       "      <td>Tienes razón.</td>\n",
       "      <td>Negative</td>\n",
       "    </tr>\n",
       "    <tr>\n",
       "      <th>62</th>\n",
       "      <td>c3606126</td>\n",
       "      <td>entonces por qué lo llamas realmadridización?...</td>\n",
       "      <td>Positive</td>\n",
       "    </tr>\n",
       "    <tr>\n",
       "      <th>154</th>\n",
       "      <td>8ccef7aa</td>\n",
       "      <td>Comparar a con con la frase \"el dinero no da g...</td>\n",
       "      <td>Negative</td>\n",
       "    </tr>\n",
       "    <tr>\n",
       "      <th>54</th>\n",
       "      <td>4e803396</td>\n",
       "      <td>No tranquilo que el chollo del atleti este añ...</td>\n",
       "      <td>Positive</td>\n",
       "    </tr>\n",
       "    <tr>\n",
       "      <th>107</th>\n",
       "      <td>ddc5f491</td>\n",
       "      <td>El problema del PSG es su propio presidente q...</td>\n",
       "      <td>Negative</td>\n",
       "    </tr>\n",
       "    <tr>\n",
       "      <th>37</th>\n",
       "      <td>67ae6b97</td>\n",
       "      <td>#JavierMascherano sobre #Messi en :\"Es el jug...</td>\n",
       "      <td>Positive</td>\n",
       "    </tr>\n",
       "    <tr>\n",
       "      <th>173</th>\n",
       "      <td>2ccfd252</td>\n",
       "      <td>Tendrías que haberte hecho del Barça directam...</td>\n",
       "      <td>Positive</td>\n",
       "    </tr>\n",
       "    <tr>\n",
       "      <th>141</th>\n",
       "      <td>ee59a530</td>\n",
       "      <td>El partidazo que se mandó contra el Barça, y ...</td>\n",
       "      <td>Positive</td>\n",
       "    </tr>\n",
       "  </tbody>\n",
       "</table>\n",
       "</div>"
      ],
      "text/plain": [
       "           id                                               text polarity_bin\n",
       "57   c2d98689   El que tiró la liga en septiembre el año pasa...     Positive\n",
       "109  6d1bd293              Yo soy del Barça, hinchaba por Neymar     Positive\n",
       "48   51df160e                                     Tienes razón.      Negative\n",
       "62   c3606126   entonces por qué lo llamas realmadridización?...     Positive\n",
       "154  8ccef7aa  Comparar a con con la frase \"el dinero no da g...     Negative\n",
       "54   4e803396   No tranquilo que el chollo del atleti este añ...     Positive\n",
       "107  ddc5f491   El problema del PSG es su propio presidente q...     Negative\n",
       "37   67ae6b97   #JavierMascherano sobre #Messi en :\"Es el jug...     Positive\n",
       "173  2ccfd252   Tendrías que haberte hecho del Barça directam...     Positive\n",
       "141  ee59a530   El partidazo que se mandó contra el Barça, y ...     Positive"
      ]
     },
     "execution_count": 45,
     "metadata": {},
     "output_type": "execute_result"
    }
   ],
   "source": [
    "tweets.sample(10)"
   ]
  },
  {
   "cell_type": "markdown",
   "metadata": {},
   "source": [
    "Rename column `polarity_bin` to `polarity`:"
   ]
  },
  {
   "cell_type": "code",
   "execution_count": 46,
   "metadata": {},
   "outputs": [],
   "source": [
    "tweets = tweets.rename(columns={'polarity_bin': 'polarity'})"
   ]
  },
  {
   "cell_type": "markdown",
   "metadata": {},
   "source": [
    "Export tweets as CSV:"
   ]
  },
  {
   "cell_type": "code",
   "execution_count": 47,
   "metadata": {},
   "outputs": [],
   "source": [
    "tweets[['id', 'polarity']].to_csv('tweets_polarity_bin.csv', encoding='utf-8', index=False)"
   ]
  }
 ],
 "metadata": {
  "kernelspec": {
   "display_name": "Python 3",
   "language": "python",
   "name": "python3"
  },
  "language_info": {
   "codemirror_mode": {
    "name": "ipython",
    "version": 3
   },
   "file_extension": ".py",
   "mimetype": "text/x-python",
   "name": "python",
   "nbconvert_exporter": "python",
   "pygments_lexer": "ipython3",
   "version": "3.6.4"
  }
 },
 "nbformat": 4,
 "nbformat_minor": 2
}
