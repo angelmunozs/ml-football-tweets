{
 "cells": [
  {
   "cell_type": "markdown",
   "metadata": {},
   "source": [
    "# Conclusions\n",
    "Brief summary"
   ]
  },
  {
   "cell_type": "markdown",
   "metadata": {
    "collapsed": true
   },
   "source": [
    "Although we haven't scored much puntuation, we can check in Kaggle that other teams neither have. Perhaps this could be improved if instead of grading the whole tweet we grade main elements of it, like teams o players. That could give us a more accurate approach to sentiment analysis. \n",
    "\n",
    "Also, using other datasets would be highly recommendable, as the ml algorithms could work with more information and have a more complete corpus.\n",
    "\n",
    "At least, we hace achieved the purpose of learning how to process natural language and use machine learning algorithms on this process, having reached the goals of this competition."
   ]
  }
 ],
 "metadata": {
  "kernelspec": {
   "display_name": "Python 3",
   "language": "python",
   "name": "python3"
  },
  "language_info": {
   "codemirror_mode": {
    "name": "ipython",
    "version": 3
   },
   "file_extension": ".py",
   "mimetype": "text/x-python",
   "name": "python",
   "nbconvert_exporter": "python",
   "pygments_lexer": "ipython3",
   "version": "3.6.3"
  }
 },
 "nbformat": 4,
 "nbformat_minor": 2
}
